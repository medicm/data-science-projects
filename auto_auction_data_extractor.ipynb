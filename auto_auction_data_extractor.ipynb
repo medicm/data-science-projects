{
 "cells": [
  {
   "cell_type": "markdown",
   "metadata": {},
   "source": [
    "This script extracts tables from salvageautosauction website and stores them to the csv file"
   ]
  },
  {
   "cell_type": "code",
   "execution_count": 9,
   "metadata": {},
   "outputs": [],
   "source": [
    "from selenium import webdriver\n",
    "import time\n",
    "from selenium.webdriver.common.keys import Keys\n",
    "from selenium.webdriver.chrome.options import Options\n",
    "from dateutil import parser\n",
    "import pandas as pd"
   ]
  },
  {
   "cell_type": "code",
   "execution_count": 10,
   "metadata": {},
   "outputs": [],
   "source": [
    "def click_option(id, value):\n",
    "    el = driver.find_element_by_id(id)\n",
    "    for option in el.find_elements_by_tag_name('option'):\n",
    "        if option.text == value:\n",
    "            option.click()"
   ]
  },
  {
   "cell_type": "code",
   "execution_count": 11,
   "metadata": {},
   "outputs": [],
   "source": [
    "def extract_data(driver, make, from_year, to_year, resp_array, page_num):\n",
    "    \n",
    "    resp = []\n",
    "    \n",
    "    if page_num == 1:\n",
    "        click_option('cboFrYear', from_year)\n",
    "        click_option('cboToYear', to_year)\n",
    "        click_option('cboMake', make)\n",
    "\n",
    "        search = driver.find_element_by_name('btnSubmit')\n",
    "        search.click()\n",
    "        \n",
    "        resp_array += extract_table_from_page(driver)\n",
    "        \n",
    "    while(True):\n",
    "        \n",
    "        page_num += 1\n",
    "    \n",
    "        next_link = \"https://www.salvageautosauction.com/price_history/\" + str(page_num)\n",
    "        try:\n",
    "            next_page = driver.find_element_by_xpath('//a[contains(@href, \"%s\")]' % next_link)\n",
    "        except Exception as e:\n",
    "            print(e)\n",
    "            print('Final page number', page_num)\n",
    "            return resp_array\n",
    "        \n",
    "        try:\n",
    "            next_page.click()\n",
    "        except Exception as e:\n",
    "            print(e)\n",
    "            print('Final page number', page_num)\n",
    "            return resp_array\n",
    "\n",
    "        try:\n",
    "            resp = extract_table_from_page(driver)\n",
    "        except Exception as e:\n",
    "            print(e)\n",
    "            print('Final page number', page_num)\n",
    "            return resp_array\n",
    "        \n",
    "        resp_array += resp\n",
    "                            \n",
    "    return resp_array"
   ]
  },
  {
   "cell_type": "code",
   "execution_count": 12,
   "metadata": {},
   "outputs": [],
   "source": [
    "def extract_table_from_page(driver):\n",
    "    x = driver.find_element_by_class_name('price_history')\n",
    "    obj_array = []\n",
    "    for idx, row in enumerate(x.find_elements_by_class_name('row')):\n",
    "        if idx == 0:\n",
    "            continue\n",
    "        obj = {}\n",
    "        items = row.text.split('  ')\n",
    "\n",
    "        items = row.find_elements_by_css_selector(\".col-xs-12.col-sm-6.col-md-4.col-lg-3\")\n",
    "        price_item = row.find_element_by_css_selector(\".col-xs-12.col-sm-6.col-md-4.col-lg-2.last\")\n",
    "\n",
    "        if items[0].text and items[0].text != '  ':\n",
    "            y = items[0].text.split('\\n')\n",
    "            model = y[0].lstrip().split(' ')\n",
    "            model_year = model[0]\n",
    "            model_name = ' '.join(model[1:])\n",
    "            obj['Model Year'] = int(model_year)\n",
    "            obj['Model'] = model_name\n",
    "            obj['Title State/Type'] = y[1].split(':')[1].lstrip()\n",
    "            obj['Location'] = y[2].split(':')[1].lstrip()\n",
    "        if items[1].text and items[1].text != '  ':\n",
    "            date = items[1].text.split('\\n')[0].lstrip()\n",
    "            obj['Auction Date'] = parser.parse(date)\n",
    "        if items[2].text and items[2].text != '  ':\n",
    "            actual_value = items[2].text.split('\\n')[0].lstrip().split(' ')\n",
    "            obj['Auctual Cash Value'] = float(actual_value[1].replace(',', ''))\n",
    "            obj['Actual Cash Value Currency'] = actual_value[2] + ' ' + actual_value[0]\n",
    "        if items[3].text and items[3].text != '  ':\n",
    "            repair_cost = items[3].text.split('\\n')[0].lstrip().split(' ')\n",
    "            obj['Repair Cost'] = float(repair_cost[1].replace(',', ''))\n",
    "            obj['Repair Cost Currency'] = repair_cost[2] + ' ' + repair_cost[0]\n",
    "        if items[4].text and items[4].text != '  ':\n",
    "            obj['Odometer'] = items[4].text.split('\\n')[0].lstrip()\n",
    "        if items[5].text and items[5].text != '  ':\n",
    "            obj['Prim Damage'] = items[5].text.split('\\n')[0].lstrip()\n",
    "        if items[6].text and items[6].text != '  ':\n",
    "            obj['Sec Damage'] = items[6].text.split('\\n')[0].lstrip()\n",
    "        if price_item.text and price_item.text != '  ':\n",
    "            price_sold = price_item.text.split('\\n')[0].lstrip().split(' ')\n",
    "            obj['Price Sold or Highest Bid'] = float(price_sold[1].replace(',', ''))\n",
    "            obj['Price Sold or Highest Bid Currency'] = price_sold[2] + ' ' + price_sold[0]\n",
    "        if obj:\n",
    "            obj_array.append(obj)\n",
    "            \n",
    "    return obj_array"
   ]
  },
  {
   "cell_type": "code",
   "execution_count": 20,
   "metadata": {},
   "outputs": [],
   "source": [
    "def query_and_save_data(driver, make, from_year, to_year, resp_array, page_num):\n",
    "    resp = extract_data(driver, make, from_year, to_year, resp_array, page_num)\n",
    "\n",
    "    df = pd.DataFrame(resp)\n",
    "    file = 'cars_datasets\\\\{0}_from_{1}_to_{2}.csv'.format(make, from_year, to_year)\n",
    "    df.to_csv(file, index=False)\n",
    "    return resp"
   ]
  },
  {
   "cell_type": "code",
   "execution_count": 24,
   "metadata": {},
   "outputs": [
    {
     "name": "stdout",
     "output_type": "stream",
     "text": [
      "Message: no such element: Unable to locate element: {\"method\":\"css selector\",\"selector\":\".price_history\"}\n",
      "  (Session info: chrome=84.0.4142.0)\n",
      "\n",
      "Final page number 8\n"
     ]
    }
   ],
   "source": [
    "from_year = '2020'\n",
    "to_year = '2020'\n",
    "make = 'Toyota'\n",
    "options = Options()\n",
    "\n",
    "# edit per user \n",
    "options.binary_location = \"c:\\\\users\\\\mrkmd\\\\appdata\\\\local\\\\google\\\\chrome sxs\\\\application\\\\chrome.exe\"\n",
    "driver = webdriver.Chrome(options=options, executable_path=\"c:\\\\programdata\\\\chromedriver\\\\chromedriver.exe\")\n",
    "# edit per user \n",
    "\n",
    "driver.get('https://www.salvageautosauction.com/price_history')\n",
    "resp = query_and_save_data(driver, make, from_year, to_year, [], 1)"
   ]
  },
  {
   "cell_type": "markdown",
   "metadata": {},
   "source": [
    "In case query_and_save_data crashes, go to the previous page on the browser and run the following line with page_num equals to the previous page number"
   ]
  },
  {
   "cell_type": "code",
   "execution_count": 22,
   "metadata": {},
   "outputs": [
    {
     "name": "stdout",
     "output_type": "stream",
     "text": [
      "Message: no such element: Unable to locate element: {\"method\":\"xpath\",\"selector\":\"//a[contains(@href, \"https://www.salvageautosauction.com/price_history/2642\")]\"}\n",
      "  (Session info: chrome=84.0.4142.0)\n",
      "\n",
      "Final page number 2642\n"
     ]
    }
   ],
   "source": [
    "resp = query_and_save_data(driver, make, from_year, to_year, resp, 2641)\n",
    "df = pd.DataFrame(resp)\n",
    "file = 'cars_datasets\\\\{0}_from_{1}_to_{2}.csv'.format(make, from_year, to_year)\n",
    "df.to_csv(file, index=False)"
   ]
  },
  {
   "cell_type": "code",
   "execution_count": 23,
   "metadata": {},
   "outputs": [],
   "source": [
    "driver.close()"
   ]
  },
  {
   "cell_type": "code",
   "execution_count": null,
   "metadata": {},
   "outputs": [],
   "source": []
  }
 ],
 "metadata": {
  "kernelspec": {
   "display_name": "Python 3",
   "language": "python",
   "name": "python3"
  },
  "language_info": {
   "codemirror_mode": {
    "name": "ipython",
    "version": 3
   },
   "file_extension": ".py",
   "mimetype": "text/x-python",
   "name": "python",
   "nbconvert_exporter": "python",
   "pygments_lexer": "ipython3",
   "version": "3.7.1"
  }
 },
 "nbformat": 4,
 "nbformat_minor": 2
}
